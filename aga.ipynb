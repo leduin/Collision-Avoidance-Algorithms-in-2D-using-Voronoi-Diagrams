{
 "cells": [
  {
   "cell_type": "markdown",
   "metadata": {},
   "source": [
    "## Main code"
   ]
  },
  {
   "cell_type": "markdown",
   "metadata": {},
   "source": [
    "### Libraries and Modules"
   ]
  },
  {
   "cell_type": "code",
   "execution_count": 1,
   "metadata": {},
   "outputs": [
    {
     "name": "stdout",
     "output_type": "stream",
     "text": [
      "importing Jupyter notebook from voronoi_constructor.ipynb\n",
      "importing Jupyter notebook from node_linker.ipynb\n",
      "importing Jupyter notebook from solver.ipynb\n"
     ]
    }
   ],
   "source": [
    "import sys\n",
    "import math\n",
    "import glob\n",
    "import os\n",
    "import time\n",
    "import csv\n",
    "\n",
    "import matplotlib.pyplot as plt\n",
    "import numpy as np\n",
    "from scipy.spatial import Voronoi\n",
    "import cv2\n",
    "\n",
    "import import_ipynb\n",
    "import voronoi_constructor as bvc_builder"
   ]
  },
  {
   "cell_type": "markdown",
   "metadata": {},
   "source": [
    "### Global Parameters"
   ]
  },
  {
   "cell_type": "code",
   "execution_count": 9,
   "metadata": {},
   "outputs": [],
   "source": [
    "num_robots = 5\n",
    "parameters = {\"radius\"   : 1,\n",
    "              \"movement\" : 1,\n",
    "              \"tolerance\": 2,\n",
    "              \"deadlock_mov\" : 10,\n",
    "              \"previous\" : 1\n",
    "             }"
   ]
  },
  {
   "cell_type": "markdown",
   "metadata": {},
   "source": [
    "### General Options"
   ]
  },
  {
   "cell_type": "code",
   "execution_count": 3,
   "metadata": {},
   "outputs": [],
   "source": [
    "# Initialize the number of infinity vertices\n",
    "infinity_vertices = 0\n",
    "# To colorize each robots and its related data\n",
    "palette = bvc_builder.colors(num_robots)\n",
    "# Allow or deny (True/False) optimization\n",
    "optimize = False\n",
    "# True to plot figures\n",
    "plotting = False\n",
    "# True to save the image in hard disc\n",
    "save_image = False\n",
    "# True to register data in CSV file\n",
    "save_data = True\n",
    "# True to check the execution of the main module\n",
    "main_verbose = False\n",
    "# True to check the execution of all code\n",
    "verbose = False\n",
    "experiments = 30\n",
    "seed = 0"
   ]
  },
  {
   "cell_type": "markdown",
   "metadata": {},
   "source": [
    "### Main Loop"
   ]
  },
  {
   "cell_type": "code",
   "execution_count": 6,
   "metadata": {},
   "outputs": [],
   "source": [
    "def main_module(key):\n",
    "    with open(\"/home/leduin/Desktop/Hub/Results/aga_\"+key+\".csv\",\"a\") as file:\n",
    "        if save_data:\n",
    "            csv_writer = csv.writer(file)\n",
    "        for experiment in range(experiments):\n",
    "            # INITIALIZATION\n",
    "            start_time = time.time()\n",
    "            robots, target, distances = bvc_builder.position_generator(num_robots,\n",
    "                                                            experiment+seed)\n",
    "            vor = Voronoi(robots) # Generate Voronoi Diagram using Scipy module\n",
    "            vor_target = Voronoi(target)\n",
    "            robots_path = [] # To save the robots path along execution\n",
    "            finished = np.all(robots == target) # Flag to stop the main loop\n",
    "            # To save the traveled distance of each robot \n",
    "            traveled_distances = [0 for _ in range(num_robots)]\n",
    "            counter = 0 # For steps\n",
    "            # COLLISION FREE CONFIGURATION\n",
    "            if not bvc_builder.collision_free_conf(robots, vor.ridge_points,\n",
    "                                                   parameters[\"radius\"]):\n",
    "                print('ERROR!: Change the initial configuration')\n",
    "                print(\"Positions:\", vor.ridge_points)\n",
    "                break\n",
    "            if not bvc_builder.collision_free_conf(target,\n",
    "                                                   vor_target.ridge_points,\n",
    "                                                   parameters[\"radius\"]):\n",
    "                print('ERROR!: Change the final configuration')\n",
    "                print(\"Positions:\", vor_target.ridge_points)\n",
    "                break\n",
    "            # MAIN LOOP\n",
    "            while not finished:\n",
    "                #Final iteration\n",
    "                if np.all(robots == target):\n",
    "                    finished = True\n",
    "                if main_verbose:\n",
    "                    print('Robots:\\n', robots,'\\n')\n",
    "                # Generate Voronoi Diagram for the current positions\n",
    "                vor = Voronoi(robots)\n",
    "                # Generate the Voronoi Diagram and get the approximated values\n",
    "                # of inf vertices\n",
    "                vertices, edges = bvc_builder.voronoi_approx(robots, vor,\n",
    "                                                             verbose)\n",
    "                # Assemble the vertices and get the ordered vertices\n",
    "                bvc = bvc_builder.vertices_assembler(robots, vor, edges,\n",
    "                                                     verbose)\n",
    "                robots_path.append(robots) # Save the previous position\n",
    "                # Generate the BVC\n",
    "                closer_points,vertices_bvc,closer_edges = bvc_builder.bvc_generator(\n",
    "                    robots, target, parameters[\"radius\"], vertices, edges,\n",
    "                    bvc, robots_path, optimize, plotting, verbose)\n",
    "                # SAVING IMAGE\n",
    "                if save_image:\n",
    "                    folder = 'Simple'\n",
    "                    if optimize:\n",
    "                        folder = 'Opt'\n",
    "                    plt.savefig('/home/leduin/Desktop/Hub/Images/'+folder+'/'\n",
    "                                +str(num_robots)+'/fig'+ str(counter)+'.svg')\n",
    "                    print('Image '+str(counter)+' saved successfully!')\n",
    "                    plt.close()\n",
    "                elif plotting:\n",
    "                    plt.show()\n",
    "                # DEADLOCK TESTING\n",
    "                deadlock_flag = False\n",
    "                deadlock_pointers = []\n",
    "                if counter >= parameters[\"previous\"]:\n",
    "                    for i in range(num_robots):\n",
    "                        if not np.all(closer_points[i] == target[i]):\n",
    "                            j = 0\n",
    "                            deadlock_local_flag = False\n",
    "                            distance1 = np.linalg.norm(closer_points[i]\n",
    "                                                           - robots[i])\n",
    "                            if main_verbose:\n",
    "                                print('Distance from',palette[i],\n",
    "                                      'to the closest point:',distance1)\n",
    "                            while (not deadlock_local_flag\n",
    "                                   and j < parameters[\"previous\"]):\n",
    "                                distance2 = np.linalg.norm(closer_points[i]\n",
    "                                                           - robots_path[-2-j][i])\n",
    "                                if main_verbose:\n",
    "                                    print('Distance from the '+str(j+1)+\n",
    "                                          'th previous point:', distance2)\n",
    "                                if (distance1 < parameters[\"tolerance\"]\n",
    "                                    or distance2 < parameters[\"tolerance\"]):\n",
    "                                    deadlock_pointers.append(i)\n",
    "                                    deadlock_local_flag = True\n",
    "                                    deadlock_flag = True\n",
    "                                j += 1\n",
    "                if main_verbose:\n",
    "                    print('Closer positions:', closer_points)\n",
    "                    print('Deadlock?:',deadlock_flag,'\\n')\n",
    "                # BREAKING DEADLOCK\n",
    "                if deadlock_flag:\n",
    "                    if main_verbose:\n",
    "                        print('Cells in Deadlock:')\n",
    "                        for i in deadlock_pointers:\n",
    "                            print(palette[i], end = ' ')\n",
    "                        print('\\nCloser_edges:', closer_edges, '\\n')\n",
    "                    closer_points = bvc_builder.deadlock(robots,closer_points,\n",
    "                                                         vertices_bvc,\n",
    "                                                         parameters[\"deadlock_mov\"]*0.1,\n",
    "                                                         robots_path,\n",
    "                                                         deadlock_pointers,\n",
    "                                                         parameters[\"tolerance\"],\n",
    "                                                         closer_edges,\n",
    "                                                         parameters[\"previous\"],\n",
    "                                                         parameters[\"movement\"],\n",
    "                                                         verbose)\n",
    "                    if main_verbose:\n",
    "                        print('DEADLOCK ABOVE!')\n",
    "                        print('Previous positions:', robots_path[-2])\n",
    "                        print('New closer positions:', closer_points,'\\n')\n",
    "                if main_verbose:\n",
    "                    print('\\nRounds: ',counter)\n",
    "                    print('\\n*-*-*-*-*-*-*-*ENDING ROUND*-*-*-*-*-*-*-*-*\\n')\n",
    "                counter += 1\n",
    "                # UPDATING POSITIONS\n",
    "                internal_paths = closer_points - robots\n",
    "                new_positions = []\n",
    "                for i in range(num_robots):\n",
    "                    if np.all(internal_paths[i] == 0):\n",
    "                        # Paralyzed Robot for deadlock\n",
    "                        if i in deadlock_pointers: \n",
    "                            new_positions.append(closer_points[i])\n",
    "                        else: # Reached target\n",
    "                            new_positions.append(target[i])\n",
    "                    else:\n",
    "                        candidate = (robots[i] +\n",
    "                                     ((internal_paths[i]\n",
    "                                       / np.linalg.norm(internal_paths[i]))\n",
    "                                      * parameters[\"movement\"]))\n",
    "                        # Reaching the final position\n",
    "                        if bvc_builder.isBetween(robots[i], candidate,\n",
    "                                                 target[i]):\n",
    "                            new_positions.append(target[i])\n",
    "                            traveled_distances[i] += np.linalg.norm(robots[i]\n",
    "                                                                    - target[i])\n",
    "                        # Internal Path less than alpha\n",
    "                        elif (np.linalg.norm(internal_paths[i])\n",
    "                              < parameters[\"movement\"]):\n",
    "                            new_positions.append(closer_points[i])\n",
    "                            traveled_distances[i] += np.linalg.norm(internal_paths[i])\n",
    "                        # Normal movement\n",
    "                        else:\n",
    "                            new_positions.append(candidate)\n",
    "                            traveled_distances[i] += parameters[\"movement\"]\n",
    "                robots = np.array(new_positions)\n",
    "            effectiveness = np.sum(distances) / np.sum(traveled_distances)\n",
    "            if save_data:\n",
    "                csv_writer.writerow([parameters[key], experiment+seed,\n",
    "                                     counter, time.time() - start_time,\n",
    "                                     effectiveness])\n",
    "                #print('Data of experiment ' + str(experiment+seed) +\n",
    "                #      ' saved successfully!\\n')"
   ]
  },
  {
   "cell_type": "markdown",
   "metadata": {},
   "source": [
    "### One Parameter Analysis"
   ]
  },
  {
   "cell_type": "code",
   "execution_count": 10,
   "metadata": {},
   "outputs": [
    {
     "name": "stdout",
     "output_type": "stream",
     "text": [
      "Working on tolerance ...\n",
      "tolerance equal to 2 ...\n",
      "tolerance equal to 3 ...\n",
      "tolerance equal to 4 ...\n",
      "tolerance equal to 5 ...\n",
      "tolerance equal to 6 ...\n",
      "tolerance equal to 7 ...\n",
      "tolerance equal to 8 ...\n",
      "tolerance equal to 9 ...\n",
      "tolerance equal to 10 ...\n",
      "tolerance equal to 11 ...\n"
     ]
    }
   ],
   "source": [
    "parameter = \"tolerance\"\n",
    "print(\"Working on\",parameter,\"...\")\n",
    "previous_value = parameters[parameter]\n",
    "if parameter == \"deadlock_mov\":\n",
    "    parameters[parameter] = 1\n",
    "for i in range(10):\n",
    "    print(parameter,\"equal to\",parameters[parameter],\"...\")\n",
    "    main_module(parameter)\n",
    "    parameters[parameter] += 1\n",
    "parameters[parameter] = previous_value"
   ]
  },
  {
   "cell_type": "markdown",
   "metadata": {},
   "source": [
    "### All Parameter Analysis"
   ]
  },
  {
   "cell_type": "code",
   "execution_count": 5,
   "metadata": {},
   "outputs": [
    {
     "name": "stdout",
     "output_type": "stream",
     "text": [
      "Working on radius ...\n",
      "radius equal to 1 ...\n"
     ]
    },
    {
     "name": "stderr",
     "output_type": "stream",
     "text": [
      "<string>:208: VisibleDeprecationWarning: Creating an ndarray from ragged nested sequences (which is a list-or-tuple of lists-or-tuples-or ndarrays with different lengths or shapes) is deprecated. If you meant to do this, you must specify 'dtype=object' when creating the ndarray.\n",
      "<string>:16: RuntimeWarning: invalid value encountered in double_scalars\n"
     ]
    },
    {
     "name": "stdout",
     "output_type": "stream",
     "text": [
      "radius equal to 2 ...\n",
      "radius equal to 3 ...\n",
      "radius equal to 4 ...\n",
      "radius equal to 5 ...\n",
      "radius equal to 6 ...\n",
      "radius equal to 7 ...\n",
      "radius equal to 8 ...\n",
      "radius equal to 9 ...\n",
      "radius equal to 10 ...\n",
      "Working on movement ...\n",
      "movement equal to 1 ...\n",
      "movement equal to 2 ...\n",
      "movement equal to 3 ...\n",
      "movement equal to 4 ...\n",
      "movement equal to 5 ...\n",
      "movement equal to 6 ...\n",
      "movement equal to 7 ...\n",
      "movement equal to 8 ...\n",
      "movement equal to 9 ...\n",
      "movement equal to 10 ...\n",
      "Working on tolerance ...\n",
      "tolerance equal to 1 ...\n",
      "tolerance equal to 2 ...\n",
      "tolerance equal to 3 ...\n",
      "tolerance equal to 4 ...\n",
      "tolerance equal to 5 ...\n",
      "tolerance equal to 6 ...\n",
      "tolerance equal to 7 ...\n",
      "tolerance equal to 8 ...\n",
      "tolerance equal to 9 ...\n",
      "tolerance equal to 10 ...\n",
      "Working on deadlock_mov ...\n",
      "deadlock_mov equal to 1 ...\n",
      "deadlock_mov equal to 2 ...\n",
      "deadlock_mov equal to 3 ...\n",
      "deadlock_mov equal to 4 ...\n",
      "deadlock_mov equal to 5 ...\n",
      "deadlock_mov equal to 6 ...\n",
      "deadlock_mov equal to 7 ...\n",
      "deadlock_mov equal to 8 ...\n",
      "deadlock_mov equal to 9 ...\n",
      "deadlock_mov equal to 10 ...\n",
      "Working on previous ...\n",
      "previous equal to 1 ...\n",
      "previous equal to 2 ...\n",
      "previous equal to 3 ...\n",
      "previous equal to 4 ...\n",
      "previous equal to 5 ...\n",
      "previous equal to 6 ...\n",
      "previous equal to 7 ...\n",
      "previous equal to 8 ...\n",
      "previous equal to 9 ...\n",
      "previous equal to 10 ...\n"
     ]
    }
   ],
   "source": [
    "for parameter in parameters:\n",
    "    print(\"Working on\",parameter,\"...\")\n",
    "    previous_value = parameters[parameter]\n",
    "    if parameter == \"deadlock_mov\":\n",
    "        parameters[parameter] = 1\n",
    "    for i in range(10):\n",
    "        print(parameter,\"equal to\",parameters[parameter],\"...\")\n",
    "        main_module(parameter)\n",
    "        parameters[parameter] += 1\n",
    "    parameters[parameter] = previous_value"
   ]
  },
  {
   "cell_type": "markdown",
   "metadata": {},
   "source": [
    "### Generate Video"
   ]
  },
  {
   "cell_type": "code",
   "execution_count": 11,
   "metadata": {},
   "outputs": [],
   "source": [
    "frameSize = (432, 288)\n",
    "\n",
    "out = cv2.VideoWriter('/home/leduin/Desktop/Hub/Images/Simple/animation_simple_'\n",
    "                      +str(num_robots)+'.mp4',\n",
    "                      cv2.VideoWriter_fourcc(*'DIVX'), 4, frameSize)\n",
    "\n",
    "for filename in sorted(glob.glob('/home/leduin/Desktop/Hub/Images/Simple/'\n",
    "                                 +str(num_robots)+'/*.png'),\n",
    "                       key=os.path.getmtime):\n",
    "    img = cv2.imread(filename)\n",
    "    out.write(img)\n",
    "\n",
    "out.release()"
   ]
  }
 ],
 "metadata": {
  "kernelspec": {
   "display_name": "Python 3",
   "language": "python",
   "name": "python3"
  },
  "language_info": {
   "codemirror_mode": {
    "name": "ipython",
    "version": 3
   },
   "file_extension": ".py",
   "mimetype": "text/x-python",
   "name": "python",
   "nbconvert_exporter": "python",
   "pygments_lexer": "ipython3",
   "version": "3.8.8"
  }
 },
 "nbformat": 4,
 "nbformat_minor": 4
}
