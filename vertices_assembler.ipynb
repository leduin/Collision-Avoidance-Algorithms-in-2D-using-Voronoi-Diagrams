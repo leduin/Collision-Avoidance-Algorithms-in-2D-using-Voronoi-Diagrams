{
 "cells": [
  {
   "cell_type": "code",
   "execution_count": null,
   "id": "12b89067-5570-47ad-923b-c5dc61c78629",
   "metadata": {},
   "outputs": [],
   "source": [
    "import node_linker"
   ]
  },
  {
   "cell_type": "code",
   "execution_count": null,
   "id": "0bc2f637-f31e-449e-a1e4-6726d34ed4d5",
   "metadata": {},
   "outputs": [],
   "source": [
    "def create_list(linked_list, vrtx0, vrtx1):\n",
    "    linked_list.insert_in_emptylist(vrtx0[\"val\"])\n",
    "    linked_list.insert_at_end(vrtx1[\"val\"])\n",
    "    linked_list.start_node.nlink = True\n",
    "    linked_list.end_node.plink = True\n",
    "    return ['Double linked list created!', vrtx0[\"val\"], vrtx1[\"val\"]]"
   ]
  },
  {
   "cell_type": "code",
   "execution_count": null,
   "id": "26d663d4-90b0-44b7-987e-31411dcb0eaf",
   "metadata": {},
   "outputs": [],
   "source": [
    "def insert_partial(linked_list, vrtx0, vrtx1):\n",
    "    linked_list.insert_at_end(vrtx0[\"val\"])\n",
    "    linked_list.insert_at_end(vrtx1[\"val\"])\n",
    "    linked_list.end_node.pref.nlink = True\n",
    "    linked_list.end_node.plink = True\n",
    "    return ['Partial insertion!', vrtx0[\"val\"], vrtx1[\"val\"]]"
   ]
  },
  {
   "cell_type": "code",
   "execution_count": null,
   "id": "c69ffb35-9914-4d05-a73a-7d6f3c00883b",
   "metadata": {},
   "outputs": [],
   "source": [
    "def insert_start(linked_list, vrtx0, vrtx1):\n",
    "    linked_list.insert_at_start(vrtx0[\"val\"])\n",
    "    linked_list.start_node.nlink = True\n",
    "    vrtx1[\"node\"].plink = True\n",
    "    return ['Insertion at start!', vrtx0[\"val\"], vrtx1[\"val\"]]"
   ]
  },
  {
   "cell_type": "code",
   "execution_count": null,
   "id": "5adc1107-4e80-43e2-a540-ccd5ffe1ea94",
   "metadata": {},
   "outputs": [],
   "source": [
    "def insert_end(linked_list, vrtx0, vrtx1):\n",
    "    linked_list.insert_at_end(vrtx0[\"val\"])\n",
    "    linked_list.end_node.plink = True\n",
    "    vrtx1[\"node\"].nlink = True\n",
    "    return ['Insertion at end!', vrtx1[\"val\"], vrtx0[\"val\"]]"
   ]
  },
  {
   "cell_type": "code",
   "execution_count": null,
   "id": "62205ca8-7fa6-4b31-a380-524ce1b69e60",
   "metadata": {},
   "outputs": [],
   "source": [
    "def inside_before(linked_list, vrtx0, vrtx1):\n",
    "    linked_list.insert_before_item(vrtx1[\"val\"],vrtx0[\"val\"])\n",
    "    vrtx1[\"node\"].pref.nlink = True\n",
    "    vrtx1[\"node\"].plink = True\n",
    "    return ['Insertion inside before item!',vrtx0[\"val\"], vrtx1[\"val\"]]"
   ]
  },
  {
   "cell_type": "code",
   "execution_count": null,
   "id": "06322b63-0c05-4257-baf9-407701c73b8f",
   "metadata": {},
   "outputs": [],
   "source": [
    "def inside_after(linked_list, vrtx0, vrtx1):\n",
    "    linked_list.insert_after_item(vrtx1[\"val\"],vrtx0[\"val\"])\n",
    "    vrtx1[\"node\"].nref.plink = True\n",
    "    vrtx1[\"node\"].nlink = True\n",
    "    return ['Insertion inside after item!',vrtx1[\"val\"], vrtx0[\"val\"]]"
   ]
  },
  {
   "cell_type": "code",
   "execution_count": null,
   "id": "ba45aa8a-516d-4186-a8be-99be89081631",
   "metadata": {},
   "outputs": [],
   "source": [
    "def already_done(vrtx0, vrtx1):\n",
    "    vrtx0[\"node\"].nlink = True\n",
    "    vrtx1[\"node\"].plink = True\n",
    "    return ['Already done!', vrtx0[\"val\"], vrtx1[\"val\"]]"
   ]
  },
  {
   "cell_type": "code",
   "execution_count": null,
   "id": "09065f6c-8d2e-4de9-a7df-948678052b35",
   "metadata": {},
   "outputs": [],
   "source": [
    "def flip_simple(linked_list, vrtx0, vrtx1, aux0, aux1):\n",
    "    linked_list.reverse_linked_list(aux0, aux1)\n",
    "    vrtx0[\"node\"].nlink = True\n",
    "    vrtx1[\"node\"].plink = True\n",
    "    return ['Reorganization!', vrtx0[\"val\"], vrtx1[\"val\"]]"
   ]
  },
  {
   "cell_type": "code",
   "execution_count": null,
   "id": "ff505b4d-69c3-47e4-9d43-95ae61313c68",
   "metadata": {},
   "outputs": [],
   "source": [
    "def flip_double(linked_list, vrtx0, vrtx1, runner):\n",
    "    aux = runner.nref\n",
    "    linked_list.reverse_linked_list(vrtx0[\"node\"], runner)\n",
    "    linked_list.reverse_linked_list(aux, vrtx1[\"node\"])\n",
    "    vrtx0[\"node\"].nlink = True\n",
    "    vrtx1[\"node\"].plink = True\n",
    "    return ['Double reorganization!', vrtx0[\"val\"], vrtx1[\"val\"]]"
   ]
  },
  {
   "cell_type": "code",
   "execution_count": null,
   "id": "12d48040-a05a-4d1a-a689-aad345d3bd64",
   "metadata": {},
   "outputs": [],
   "source": [
    "def ring_close(vrtx0, vrtx1):\n",
    "    vrtx0[\"node\"].pref = vrtx1[\"node\"]\n",
    "    vrtx1[\"node\"].nref = vrtx0[\"node\"]\n",
    "    vrtx0[\"node\"].plink = True\n",
    "    vrtx1[\"node\"].nlink = True\n",
    "    return ['Ring closed!', vrtx1[\"val\"], vrtx0[\"val\"]]"
   ]
  },
  {
   "cell_type": "code",
   "execution_count": null,
   "id": "c793576c-d603-41b9-8924-593666d827dc",
   "metadata": {},
   "outputs": [],
   "source": [
    "def flip(linked_list, vrtx0, vrtx1):\n",
    "    if not vrtx0[\"node\"].plink:\n",
    "        runner = vrtx0[\"node\"].nref\n",
    "        while runner.nlink:\n",
    "            runner = runner.nref\n",
    "        return flip_double(linked_list, vrtx0, vrtx1, runner)\n",
    "    else:\n",
    "        return flip_simple(linked_list, vrtx0, vrtx1,\n",
    "                           vrtx0[\"node\"].nref, vrtx1[\"node\"])"
   ]
  },
  {
   "cell_type": "code",
   "execution_count": null,
   "id": "667bb268-06ea-4238-bca8-0458ab37d4e7",
   "metadata": {},
   "outputs": [],
   "source": [
    "def fold(linked_list, vrtx0, vrtx1):\n",
    "    runner = vrtx0[\"node\"].nref\n",
    "    connected = runner.plink and runner.nlink\n",
    "    while (connected and runner.nref is not linked_list.end_node):\n",
    "        runner = runner.nref\n",
    "        connected = runner.plink and runner.nlink\n",
    "    if connected:\n",
    "        return ring_close(vrtx0, vrtx1)\n",
    "    else:\n",
    "        return flip_double(linked_list, vrtx0, vrtx1, runner)"
   ]
  },
  {
   "cell_type": "code",
   "execution_count": null,
   "id": "e6baec4d-2ea5-4dfe-aea2-49e30bea637f",
   "metadata": {},
   "outputs": [],
   "source": [
    "def inside(linked_list, vrtx0, vrtx1):\n",
    "    if not vrtx1[\"node\"].plink:\n",
    "        return inside_before(linked_list, vrtx0, vrtx1)\n",
    "    else:\n",
    "        return inside_after(linked_list, vrtx0, vrtx1)"
   ]
  },
  {
   "cell_type": "code",
   "execution_count": null,
   "id": "d300f981-4d7f-4255-91e0-d607520ec983",
   "metadata": {},
   "outputs": [],
   "source": [
    "def special_case(linked_list, vrtx0, vrtx1, ridge_list, edges, front, edge):\n",
    "    if not (vrtx0[\"node\"].plink or vrtx1[\"node\"].plink):\n",
    "        aux_node = vrtx0[\"node\"].pref\n",
    "        while not(aux_node is vrtx1[\"node\"]\n",
    "                  or aux_node is linked_list.start_node):\n",
    "            aux_node = aux_node.pref\n",
    "        if aux_node is vrtx1[\"node\"]:\n",
    "            return flip_simple(linked_list, vrtx1, vrtx0, vrtx1[\"node\"],\n",
    "                               vrtx0[\"node\"].pref)\n",
    "        else:\n",
    "            return flip_simple(linked_list, vrtx0, vrtx1, vrtx0[\"node\"],\n",
    "                               vrtx1[\"node\"].pref)\n",
    "    elif not (vrtx0[\"node\"].nlink or vrtx1[\"node\"].nlink):\n",
    "        aux_node = vrtx0[\"node\"].nref\n",
    "        while not(aux_node is vrtx1[\"node\"]\n",
    "                  or aux_node is linked_list.end_node):\n",
    "            aux_node = aux_node.nref\n",
    "        if aux_node is vrtx1[\"node\"]:\n",
    "            return flip_simple(linked_list, vrtx1, vrtx0, vrtx0[\"node\"].nref,\n",
    "                               vrtx1[\"node\"])\n",
    "        else:\n",
    "            return flip_simple(linked_list, vrtx0, vrtx1, vrtx1[\"node\"].nref,\n",
    "                               vrtx0[\"node\"])\n",
    "    else:\n",
    "        ridge_list.append(front)\n",
    "        edges.append(edge)\n",
    "        return ['Postponed!', vrtx0[\"val\"], vrtx1[\"val\"]]"
   ]
  },
  {
   "cell_type": "code",
   "execution_count": null,
   "id": "dc0bc4c6-2fcb-4701-92c0-3147ea8ddec4",
   "metadata": {},
   "outputs": [],
   "source": [
    "def switch(linked_list, vrtx0, vrtx1, ridge_list, edges, front, edge):\n",
    "    if vrtx0[\"case\"] == vrtx1[\"case\"] == 'empty':\n",
    "        return create_list(linked_list, vrtx0, vrtx1)\n",
    "    elif vrtx0[\"case\"] == vrtx1[\"case\"] == 'none':\n",
    "        return insert_partial(linked_list, vrtx0, vrtx1)\n",
    "    elif vrtx0[\"case\"] == 'none':\n",
    "        if vrtx1[\"case\"] == 'space before':\n",
    "            return insert_start(linked_list, vrtx0, vrtx1)\n",
    "        elif vrtx1[\"case\"] == 'inside':\n",
    "            return inside(linked_list, vrtx0, vrtx1)\n",
    "        elif vrtx1[\"case\"] == 'space after':\n",
    "            return insert_end(linked_list, vrtx0, vrtx1)\n",
    "    elif vrtx0[\"case\"] == 'space before':\n",
    "        if vrtx1[\"case\"] == 'none':\n",
    "            return insert_start(linked_list, vrtx1, vrtx0)\n",
    "        elif vrtx1[\"case\"] == 'space after':\n",
    "            return fold(linked_list, vrtx0, vrtx1)\n",
    "        elif vrtx1[\"case\"] == 'inside':\n",
    "            return flip_simple(linked_list, vrtx0, vrtx1,\n",
    "                               vrtx0[\"node\"], vrtx1[\"node\"].pref)\n",
    "    elif vrtx0[\"case\"] == 'space after':\n",
    "        if vrtx1[\"case\"] == 'none':\n",
    "            return insert_end(linked_list, vrtx1, vrtx0)\n",
    "        elif vrtx1[\"case\"] == 'space before':\n",
    "            return fold(linked_list, vrtx1, vrtx0)\n",
    "        elif vrtx1[\"case\"] == 'inside':\n",
    "            return flip(linked_list, vrtx1, vrtx0)\n",
    "    elif vrtx0[\"case\"] == 'inside':\n",
    "        if vrtx1[\"case\"] == 'none':\n",
    "            return inside(linked_list, vrtx1, vrtx0)\n",
    "        elif vrtx1[\"case\"] == 'space before':\n",
    "            return flip_simple(linked_list, vrtx1, vrtx0,\n",
    "                               vrtx1[\"node\"], vrtx0[\"node\"].pref)\n",
    "        elif vrtx1[\"case\"] == 'space after':\n",
    "            return flip(linked_list, vrtx0, vrtx1)\n",
    "        elif vrtx1[\"case\"] == 'inside':\n",
    "            if vrtx0[\"node\"].nref == vrtx1[\"node\"]:\n",
    "                return already_done(vrtx0, vrtx1)\n",
    "            elif vrtx0[\"node\"].pref == vrtx1[\"node\"]:\n",
    "                return already_done(vrtx1, vrtx0)\n",
    "            else:\n",
    "                return special_case(linked_list, vrtx0, vrtx1, ridge_list,\n",
    "                                    edges, front, edge)"
   ]
  },
  {
   "cell_type": "code",
   "execution_count": null,
   "id": "6734eec7-d594-4aad-bd03-2ab041a12879",
   "metadata": {},
   "outputs": [],
   "source": [
    "def main(verbose, robots, vor, edges):\n",
    "    # Initialize cells (double linked lists)\n",
    "    for agent in robots:\n",
    "        agent.cell = node_linker.DoublyLinkedList()\n",
    "        #bvc.append(cell)\n",
    "    if verbose:\n",
    "        print(\"==================================================\")\n",
    "        print('             VORONOI VERTICES ASSEMBLY')\n",
    "        print(\"==================================================\")\n",
    "    #      vertex\n",
    "    # robot  |  robot\n",
    "    #     vertex\n",
    "    ridge_list = vor.ridge_points.tolist()\n",
    "    for front, edge in zip(ridge_list, edges):\n",
    "        if verbose:\n",
    "            print('--------------------------------------------------')\n",
    "            print('Edge:',edge,'; Robots in front:',front,)\n",
    "            print('--------------------------------------------------')\n",
    "        # For each robot\n",
    "        for i in range(len(front)):\n",
    "            # Get the values\n",
    "            linked_list = robots[front[i]].cell\n",
    "            # CHECK VERTEX SITUATION \n",
    "            # flag = ['case', node, position]\n",
    "            flag0 = linked_list.search_list(edge[0])\n",
    "            flag1 = linked_list.search_list(edge[1])\n",
    "            vrtx0 = {\"val\" : edge[0], \"case\" : flag0[0], \"node\" : flag0[1],\n",
    "                     \"pos\" : flag0[2]}\n",
    "            vrtx1 = {\"val\" : edge[1], \"case\" : flag1[0], \"node\" : flag1[1],\n",
    "                     \"pos\" : flag1[2]}\n",
    "            if verbose:\n",
    "                print('Robot N°',front[i],'\\n')\n",
    "                print('Analysis of vertex',vrtx0[\"val\"],'in the cell:',\n",
    "                      vrtx0[\"case\"])\n",
    "                print('Analysis of vertex',vrtx1[\"val\"],'in the cell:',\n",
    "                      vrtx1[\"case\"],'\\n')\n",
    "                \n",
    "            message = switch(linked_list, vrtx0, vrtx1, ridge_list, edges,\n",
    "                             front, edge)\n",
    "            \n",
    "            if verbose:\n",
    "                print(message[0], message[1],']---[',message[2])\n",
    "                linked_list.traverse_list()\n",
    "                print('Head:',linked_list.start_node.item)\n",
    "                print('Tail:',linked_list.end_node.item,\"\\n\")"
   ]
  }
 ],
 "metadata": {
  "kernelspec": {
   "display_name": "Python 3 (ipykernel)",
   "language": "python",
   "name": "python3"
  },
  "language_info": {
   "codemirror_mode": {
    "name": "ipython",
    "version": 3
   },
   "file_extension": ".py",
   "mimetype": "text/x-python",
   "name": "python",
   "nbconvert_exporter": "python",
   "pygments_lexer": "ipython3",
   "version": "3.6.13"
  }
 },
 "nbformat": 4,
 "nbformat_minor": 5
}
