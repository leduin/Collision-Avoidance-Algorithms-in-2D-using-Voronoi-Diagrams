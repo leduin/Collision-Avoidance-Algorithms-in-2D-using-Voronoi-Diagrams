{
 "cells": [
  {
   "cell_type": "markdown",
   "id": "80118485-8a1c-4d1c-a257-5cca596a4150",
   "metadata": {},
   "source": [
    "# Robot Constructor\n",
    "\n",
    "A group of classes to organize the agents.\n",
    "\n",
    "## Robot class\n",
    "\n",
    "* **bvc&nbsp;&nbsp;&nbsp;&nbsp;&nbsp;&nbsp;&nbsp;&nbsp;&nbsp;&nbsp;&nbsp;&nbsp;\n",
    "&nbsp;&nbsp;&nbsp;: list**\n",
    "    * List containing the BVC vertices.\n",
    "* **cell&nbsp;&nbsp;&nbsp;&nbsp;&nbsp;&nbsp;&nbsp;&nbsp;&nbsp;&nbsp;&nbsp;&nbsp;\n",
    "&nbsp;&nbsp;&nbsp;: list**\n",
    "    * List containing the Voronoi cell vertices.\n",
    "* **closer_edge&nbsp;: list**\n",
    "    * List containing the coordinates of the closer edge.\n",
    "* **closer_point&nbsp;: list**\n",
    "    * List containing the coordinates of the closer point.\n",
    "* **color&nbsp;&nbsp;&nbsp;&nbsp;&nbsp;&nbsp;&nbsp;&nbsp;&nbsp;&nbsp;&nbsp;&nbsp;\n",
    ": string**\n",
    "    * String with the color name\n",
    "* **deadlock&nbsp;&nbsp;&nbsp;&nbsp;&nbsp;&nbsp;: bool**\n",
    "    * True if agent is in deadlock\n",
    "* **dist_total&nbsp;&nbsp;&nbsp;&nbsp;&nbsp;&nbsp;: float**\n",
    "    * Total distance from the initial position to the final position\n",
    "* **dist_travel&nbsp;&nbsp;&nbsp;&nbsp;: float**\n",
    "    * Distance traveled along execution\n",
    "* **id&nbsp;&nbsp;&nbsp;&nbsp;&nbsp;&nbsp;&nbsp;&nbsp;&nbsp;&nbsp;&nbsp;&nbsp;\n",
    "&nbsp;&nbsp;&nbsp;&nbsp;&nbsp;&nbsp;: int**\n",
    "    * Number of robot\n",
    "* **inside&nbsp;&nbsp;&nbsp;&nbsp;&nbsp;&nbsp;&nbsp;&nbsp;&nbsp;&nbsp;&nbsp;\n",
    ": bool**\n",
    "    * True if the final position is inside the BVC\n",
    "* **neighbors_id&nbsp;&nbsp;&nbsp;&nbsp;: list**\n",
    "    * List of robots id which are next to the agent\n",
    "* **neighbors_pos : list**\n",
    "    * List of robots positions which are next to the agent\n",
    "* **path&nbsp;&nbsp;&nbsp;&nbsp;&nbsp;&nbsp;: list**\n",
    "    * List of previous positions\n",
    "* **pos_f&nbsp;&nbsp;&nbsp;: list**\n",
    "        * List of coordinates of the final positions\n",
    "* **pos_i&nbsp;&nbsp;&nbsp;: list**\n",
    "    * List of coordinates of the current positions"
   ]
  },
  {
   "cell_type": "code",
   "execution_count": 7,
   "id": "dbe7c465-0b85-4a12-a5d8-9a3cc17148fa",
   "metadata": {},
   "outputs": [],
   "source": [
    "class Robot:\n",
    "    def __init__(self, identifier):\n",
    "        self.bvc  = []\n",
    "        self.cell = []\n",
    "        self.closer_edge  = []\n",
    "        self.closer_point = []\n",
    "        self.color = \"\"\n",
    "        self.deadlock = False\n",
    "        self.dist_total  = 0\n",
    "        self.dist_travel = 0\n",
    "        self.id = identifier\n",
    "        self.inside = False\n",
    "        self.neighbors_id  = []\n",
    "        self.neighbors_pos = []\n",
    "        self.path  = []\n",
    "        self.pos_f = []\n",
    "        self.pos_i = []"
   ]
  }
 ],
 "metadata": {
  "kernelspec": {
   "display_name": "Python 3 (ipykernel)",
   "language": "python",
   "name": "python3"
  },
  "language_info": {
   "codemirror_mode": {
    "name": "ipython",
    "version": 3
   },
   "file_extension": ".py",
   "mimetype": "text/x-python",
   "name": "python",
   "nbconvert_exporter": "python",
   "pygments_lexer": "ipython3",
   "version": "3.6.13"
  }
 },
 "nbformat": 4,
 "nbformat_minor": 5
}
