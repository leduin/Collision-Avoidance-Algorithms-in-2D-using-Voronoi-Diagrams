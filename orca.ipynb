{
 "cells": [
  {
   "cell_type": "markdown",
   "id": "48044f03-3bb8-41fc-b0dd-dbf2591bcd41",
   "metadata": {},
   "source": [
    "### Libraries and Modules\n",
    "[ORCA Library for Python](https://github.com/sybrenstuvel/Python-RVO2)\n",
    "\n",
    "[RVO2 Library Documentation](https://gamma.cs.unc.edu/RVO2/documentation/2.0/)"
   ]
  },
  {
   "cell_type": "code",
   "execution_count": 48,
   "id": "aaa245d1-8853-4635-810f-2b0fc8798011",
   "metadata": {},
   "outputs": [],
   "source": [
    "import rvo2\n",
    "import math\n",
    "from csv import writer\n",
    "import time\n",
    "\n",
    "import numpy as np\n",
    "import import_ipynb\n",
    "import voronoi_constructor as bvc_builder"
   ]
  },
  {
   "cell_type": "markdown",
   "id": "f91c5375-36a6-49f9-af46-d3452b738339",
   "metadata": {},
   "source": [
    "### Global Parameters"
   ]
  },
  {
   "cell_type": "code",
   "execution_count": 37,
   "id": "eba409c6-7245-4a4e-887f-722aecedbec6",
   "metadata": {},
   "outputs": [
    {
     "name": "stdout",
     "output_type": "stream",
     "text": [
      "Initial position: [29.4 -1.4]\n",
      "Final position: [-33.6  -2.3]\n",
      "Initial position: [ 6.9 28.3]\n",
      "Final position: [-12.6 -30.6]\n",
      "Initial position: [-25.8  15.5]\n",
      "Final position: [ 24.5 -20.9]\n",
      "Initial position: [-27.7 -19. ]\n",
      "Final position: [20.9 14. ]\n",
      "Initial position: [  4.9 -30.9]\n",
      "Final position: [-10.9  29.4]\n"
     ]
    }
   ],
   "source": [
    "time_step = 1\n",
    "max_speed = 1\n",
    "radius = 0.1\n",
    "time_horizon = 20\n",
    "time_horizon_obst = 0\n",
    "velocity = (1,1)\n",
    "for i in range(max_neighbors+1):\n",
    "    print('Initial position:',init_pos[i])\n",
    "    print('Final position:',final_pos[i])"
   ]
  },
  {
   "cell_type": "markdown",
   "id": "2a6e1d10-d364-4621-9af6-e235b1b7fad5",
   "metadata": {},
   "source": [
    "### Main Loop"
   ]
  },
  {
   "cell_type": "code",
   "execution_count": 76,
   "id": "482aaec5-dba3-4201-a9fa-4bdd254c9385",
   "metadata": {},
   "outputs": [],
   "source": [
    "def main_module(num_robots, seed, csv_writer):\n",
    "    start_time = time.time()\n",
    "\n",
    "    max_neighbors = num_robots-1\n",
    "    neighbor_dist = math.sqrt(2*num_robots)\n",
    "    init_pos, final_pos, dist = bvc_builder.position_generator(num_robots,\n",
    "                                                               seed)\n",
    "\n",
    "    sim = rvo2.PyRVOSimulator(time_step, neighbor_dist, max_neighbors,\n",
    "                              time_horizon, time_horizon_obst, radius,\n",
    "                              max_neighbors)\n",
    "    agents = []\n",
    "    checkered_flags = []\n",
    "    inst_distance = [0 for _ in range(num_robots)]\n",
    "    for i in range(max_neighbors+1):\n",
    "        agents.append(sim.addAgent(tuple(init_pos[i])))\n",
    "        inst = final_pos[i] - init_pos[i]\n",
    "        sim.setAgentPrefVelocity(agents[i], tuple(inst/np.linalg.norm(inst)))\n",
    "        checkered_flags.append(False)\n",
    "    checkered_flags = np.array(checkered_flags)\n",
    "\n",
    "    #print('Simulation has %i agents.' % (sim.getNumAgents()))\n",
    "    #print('Running simulation!\\n')\n",
    "\n",
    "    step = 0\n",
    "    while not np.all(checkered_flags):\n",
    "        sim.doStep()\n",
    "        positions_str = []\n",
    "        positions = []\n",
    "        for i, agent_no in enumerate(agents):\n",
    "            positions_str.append('(%5.3f, %5.3f)' % sim.getAgentPosition(agent_no))\n",
    "            positions.append(sim.getAgentPosition(agent_no))\n",
    "            traveled_distance = np.linalg.norm(np.array(positions[i]) - init_pos[i])\n",
    "            if traveled_distance < dist[i]:\n",
    "                if step > 0:\n",
    "                    inst_distance[i] += np.linalg.norm(np.array(positions[i])\n",
    "                                                       - np.array(positions_prev[i]))\n",
    "            elif not checkered_flags[i]:\n",
    "                checkered_flags[i] = True\n",
    "                inst_distance[i] += np.linalg.norm(final_pos[i]\n",
    "                                                - np.array(positions[i]))\n",
    "        step += 1\n",
    "        positions_prev = positions\n",
    "    csv_writer.writerow([num_robots, seed, step, time.time() - start_time,\n",
    "                         np.sum(dist) / np.sum(inst_distance)])"
   ]
  },
  {
   "cell_type": "markdown",
   "id": "6318a1da-a865-42d3-965b-6b034213b35e",
   "metadata": {},
   "source": [
    "### Experiments"
   ]
  },
  {
   "cell_type": "code",
   "execution_count": 77,
   "id": "190394ae-36c3-4f5d-8c8d-6a371e16f86d",
   "metadata": {},
   "outputs": [],
   "source": [
    "with open(\"/home/leduin/Desktop/Hub/Results/orca.csv\",\"a\") as file:\n",
    "    csv_writer = writer(file)\n",
    "    for i in range(10):\n",
    "        num_robots = 5+i\n",
    "        for seed in range(30):\n",
    "            main_module(num_robots,seed,csv_writer)"
   ]
  }
 ],
 "metadata": {
  "kernelspec": {
   "display_name": "Python 3",
   "language": "python",
   "name": "python3"
  },
  "language_info": {
   "codemirror_mode": {
    "name": "ipython",
    "version": 3
   },
   "file_extension": ".py",
   "mimetype": "text/x-python",
   "name": "python",
   "nbconvert_exporter": "python",
   "pygments_lexer": "ipython3",
   "version": "3.9.4"
  }
 },
 "nbformat": 4,
 "nbformat_minor": 5
}
