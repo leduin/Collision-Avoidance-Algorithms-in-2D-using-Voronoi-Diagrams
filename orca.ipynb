{
 "cells": [
  {
   "cell_type": "markdown",
   "id": "48044f03-3bb8-41fc-b0dd-dbf2591bcd41",
   "metadata": {},
   "source": [
    "### Libraries and Modules\n",
    "[ORCA Library for Python](https://github.com/sybrenstuvel/Python-RVO2)\n",
    "\n",
    "[RVO2 Library Documentation](https://gamma.cs.unc.edu/RVO2/documentation/2.0/)"
   ]
  },
  {
   "cell_type": "code",
   "execution_count": 1,
   "id": "aaa245d1-8853-4635-810f-2b0fc8798011",
   "metadata": {},
   "outputs": [
    {
     "name": "stdout",
     "output_type": "stream",
     "text": [
      "importing Jupyter notebook from utils.ipynb\n",
      "importing Jupyter notebook from node_linker.ipynb\n",
      "importing Jupyter notebook from machines.ipynb\n"
     ]
    }
   ],
   "source": [
    "import rvo2\n",
    "import math\n",
    "from csv import writer\n",
    "import time\n",
    "import numpy as np\n",
    "import import_ipynb\n",
    "import machines\n",
    "import utils"
   ]
  },
  {
   "cell_type": "markdown",
   "id": "f91c5375-36a6-49f9-af46-d3452b738339",
   "metadata": {},
   "source": [
    "### Global Parameters"
   ]
  },
  {
   "cell_type": "code",
   "execution_count": 7,
   "id": "eba409c6-7245-4a4e-887f-722aecedbec6",
   "metadata": {},
   "outputs": [],
   "source": [
    "time_step = 1\n",
    "max_speed = 0.1\n",
    "radius = 0.1\n",
    "time_horizon = 20\n",
    "time_horizon_obst = 0\n",
    "velocity = (0.1, 0.1)"
   ]
  },
  {
   "cell_type": "markdown",
   "id": "2a6e1d10-d364-4621-9af6-e235b1b7fad5",
   "metadata": {},
   "source": [
    "### Main Loop"
   ]
  },
  {
   "cell_type": "code",
   "execution_count": 18,
   "id": "482aaec5-dba3-4201-a9fa-4bdd254c9385",
   "metadata": {},
   "outputs": [],
   "source": [
    "def main_module(num_robots, seed, csv_writer):\n",
    "    start_time = time.time()\n",
    "    #ORCA Parameters initialization\n",
    "    max_neighbors = num_robots-1\n",
    "    neighbor_dist = math.sqrt(2*num_robots)\n",
    "    agents = []\n",
    "    #Robot class initialization\n",
    "    robots = [machines.Robot(i) for i in range(num_robots)]\n",
    "    utils.pos_gen(num_robots, robots, seed)\n",
    "    init_pos  = np.array([agent.pos_i for agent in robots])\n",
    "    final_pos = np.array([agent.pos_f for agent in robots])\n",
    "    dist = np.array([agent.dist_total for agent in robots])\n",
    "    #Environment initialization\n",
    "    sim = rvo2.PyRVOSimulator(time_step, neighbor_dist, max_neighbors,\n",
    "                              time_horizon, time_horizon_obst, radius,\n",
    "                              max_speed)\n",
    "    #Agent initialization\n",
    "    for i in range(max_neighbors+1):\n",
    "        agents.append(sim.addAgent(tuple(init_pos[i])))\n",
    "        inst = final_pos[i] - init_pos[i]\n",
    "        sim.setAgentPrefVelocity(agents[i], tuple(inst/np.linalg.norm(inst)))\n",
    "    #Main Loop\n",
    "    step = 0\n",
    "    while not np.all([agent.inside for agent in robots]):\n",
    "        sim.doStep()\n",
    "        for i, agent_no in enumerate(agents):\n",
    "            robots[i].pos_i = sim.getAgentPosition(agent_no)\n",
    "            traveled_dist = np.linalg.norm(np.array(robots[i].pos_i)\n",
    "                                               - init_pos[i])\n",
    "            if traveled_dist > dist[i] and not robots[i].inside:\n",
    "                robots[i].inside = True\n",
    "        step += 1\n",
    "    csv_writer.writerow([num_robots, seed, step, time.time() - start_time])"
   ]
  },
  {
   "cell_type": "markdown",
   "id": "6318a1da-a865-42d3-965b-6b034213b35e",
   "metadata": {},
   "source": [
    "### Experiments"
   ]
  },
  {
   "cell_type": "code",
   "execution_count": 19,
   "id": "190394ae-36c3-4f5d-8c8d-6a371e16f86d",
   "metadata": {},
   "outputs": [],
   "source": [
    "with open(\"/home/leduin/Escritorio/Tesis/Resultados/orca.csv\",\"a\") as file:\n",
    "    csv_writer = writer(file)\n",
    "    for i in range(1):\n",
    "        num_robots = 5+i\n",
    "        for seed in range(30):\n",
    "            main_module(num_robots,seed,csv_writer)"
   ]
  }
 ],
 "metadata": {
  "kernelspec": {
   "display_name": "Python 3 (ipykernel)",
   "language": "python",
   "name": "python3"
  },
  "language_info": {
   "codemirror_mode": {
    "name": "ipython",
    "version": 3
   },
   "file_extension": ".py",
   "mimetype": "text/x-python",
   "name": "python",
   "nbconvert_exporter": "python",
   "pygments_lexer": "ipython3",
   "version": "3.6.13"
  }
 },
 "nbformat": 4,
 "nbformat_minor": 5
}
