{
 "cells": [
  {
   "cell_type": "code",
   "execution_count": null,
   "id": "ccbc1978-283a-4ed0-87b2-37602272ea6f",
   "metadata": {},
   "outputs": [],
   "source": [
    "import matplotlib.pyplot as plt"
   ]
  },
  {
   "cell_type": "code",
   "execution_count": null,
   "id": "19992f80-3187-4f34-8b69-0220e7c2151e",
   "metadata": {},
   "outputs": [],
   "source": [
    "def save_image(options, parameters, counter):\n",
    "    if options[\"save_image\"]:\n",
    "        folder = 'Simple'\n",
    "        if options[\"optimize\"]:\n",
    "            folder = 'Opt'\n",
    "        plt.savefig(options[\"path_image\"] + folder + '/'\n",
    "                    + str(parameters[\"robots\"]) + '/fig'\n",
    "                    + str(counter) +'.svg')\n",
    "        print('Image ' + str(counter) + ' saved successfully!')\n",
    "        plt.close()\n",
    "    elif options[\"plot\"]:\n",
    "        plt.show()"
   ]
  },
  {
   "cell_type": "code",
   "execution_count": 1,
   "id": "50b36511-1ca1-4348-b31b-9e207430f6d7",
   "metadata": {},
   "outputs": [],
   "source": [
    "def test():\n",
    "    print(options[\"verbose\"])"
   ]
  }
 ],
 "metadata": {
  "kernelspec": {
   "display_name": "Python 3",
   "language": "python",
   "name": "python3"
  },
  "language_info": {
   "codemirror_mode": {
    "name": "ipython",
    "version": 3
   },
   "file_extension": ".py",
   "mimetype": "text/x-python",
   "name": "python",
   "nbconvert_exporter": "python",
   "pygments_lexer": "ipython3",
   "version": "3.6.13"
  }
 },
 "nbformat": 4,
 "nbformat_minor": 5
}
