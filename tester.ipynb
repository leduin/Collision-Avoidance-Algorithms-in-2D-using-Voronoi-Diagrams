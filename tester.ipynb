{
 "cells": [
  {
   "cell_type": "code",
   "execution_count": null,
   "id": "78b22b27-0d1a-45ea-a740-9c9ce21acb95",
   "metadata": {},
   "outputs": [],
   "source": [
    "            while i < cell.lenght_list:\n",
    "                # Flags for jumps back and forward\n",
    "                flag_jumps_back = False\n",
    "                flag_jumps_forward = False\n",
    "                #count_back = 1\n",
    "                #count_forward = 1\n",
    "                # Establish the auxiliar nodes to move back and forward\n",
    "                aux_node_back = milestone_node\n",
    "                aux_node_forward = milestone_node\n",
    "                if options[\"verbose\"]:\n",
    "                    print('Checking this vertex:', milestone_node.item)\n",
    "                # Compare the safety radius with the critical distance for the\n",
    "                # closest edge (back)\n",
    "                while (not approved_distance(aux_node_back, radius,\n",
    "                                            vor_approx[\"vrtx\"], 'back',\n",
    "                                            options[\"verbose\"])):\n",
    "                       #and count_back < cell.lenght_list):\n",
    "                    # Update the node, jumps and flag\n",
    "                    aux_node_back = aux_node_back.pref\n",
    "                    i += 1\n",
    "                    #count_back += 1\n",
    "                    flag_jumps_back = True\n",
    "                # Compare the safety radius with the critical distance for the\n",
    "                # closest edge (forward)\n",
    "                while (not approved_distance(aux_node_forward, radius,\n",
    "                                            vor_approx[\"vrtx\"], 'forward',\n",
    "                                            options[\"verbose\"])):\n",
    "                       #and count_forward < cell.lenght_list):\n",
    "                    # Update the node, jumps and flag\n",
    "                    aux_node_forward = aux_node_forward.nref\n",
    "                    i += 1\n",
    "                    #count_forward += 1\n",
    "                    flag_jumps_back = True\n",
    "                # Get coordinates\n",
    "                vertex_start = vor_approx[\"vrtx\"][aux_node_back.pref.item]\n",
    "                vertex_mid1 = vor_approx[\"vrtx\"][aux_node_back.item]\n",
    "                vertex_mid2 = vor_approx[\"vrtx\"][aux_node_forward.item]\n",
    "                vertex_end = vor_approx[\"vrtx\"][aux_node_forward.nref.item]\n",
    "                # If jump then sharpen the intersection\n",
    "                if flag_jumps_back or flag_jumps_forward:\n",
    "                    vertex_mid1 = sharpen(vertex_start, vertex_mid1,\n",
    "                                          vertex_mid2, vertex_end)\n",
    "                # Get the new vertices in this sector\n",
    "                sector = intersect(vertex_start, vertex_mid1, vertex_end,\n",
    "                                   radius)\n",
    "                # Assign the new intersection value to new_vertices\n",
    "                new_vertices.append(sector[1])\n",
    "                # Move the milestone_node and update the jump\n",
    "                milestone_node = aux_node_forward.nref\n",
    "                i += 1\n",
    "            # Add the first vertex at the end to close the cell \n",
    "            new_vertices.append(new_vertices[0])"
   ]
  },
  {
   "cell_type": "code",
   "execution_count": 21,
   "id": "81566b42-6a6b-4f4b-b60a-38b7b50b80d8",
   "metadata": {},
   "outputs": [
    {
     "name": "stdout",
     "output_type": "stream",
     "text": [
      "[1.0, 1.0]\n",
      "[0.0, 0.0]\n",
      "[0.0, 2.0]\n",
      "[1.0, 1.0]\n"
     ]
    }
   ],
   "source": [
    "import numpy as np\n",
    "from shapely.geometry import LineString, Polygon, MultiPolygon, Point\n",
    "from shapely.ops import polygonize, unary_union\n",
    "\n",
    "# original data\n",
    "ls = LineString(np.array([[0,0],[2,2],[2,0],[0,2]]))\n",
    "# closed, non-simple\n",
    "lr = LineString(ls.coords[:] + ls.coords[0:1])\n",
    "lr.is_simple  # False\n",
    "mls = unary_union(lr)\n",
    "mls.geom_type  # MultiLineString'\n",
    "for polygon in polygonize(mls):\n",
    "    if polygon.contains(Point(0.1, 1)):\n",
    "        break;\n",
    "for vertex in polygon.exterior.coords:\n",
    "    print(list(vertex))"
   ]
  },
  {
   "cell_type": "code",
   "execution_count": 20,
   "id": "d0a81361-4cc0-46de-8bf7-b0c786b59134",
   "metadata": {},
   "outputs": [
    {
     "name": "stdout",
     "output_type": "stream",
     "text": [
      "0 1\n",
      "1 2\n",
      "2 3\n"
     ]
    }
   ],
   "source": [
    "test = [1,2,3]\n",
    "for i,element in enumerate(test):\n",
    "    print(i,element)"
   ]
  }
 ],
 "metadata": {
  "kernelspec": {
   "display_name": "Python 3",
   "language": "python",
   "name": "python3"
  },
  "language_info": {
   "codemirror_mode": {
    "name": "ipython",
    "version": 3
   },
   "file_extension": ".py",
   "mimetype": "text/x-python",
   "name": "python",
   "nbconvert_exporter": "python",
   "pygments_lexer": "ipython3",
   "version": "3.6.13"
  }
 },
 "nbformat": 4,
 "nbformat_minor": 5
}
