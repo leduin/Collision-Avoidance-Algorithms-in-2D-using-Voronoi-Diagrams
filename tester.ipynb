{
 "cells": [
  {
   "cell_type": "code",
   "execution_count": null,
   "id": "ae91a664-f90d-4947-babb-35ef0ef45cc7",
   "metadata": {},
   "outputs": [],
   "source": [
    "                # Flags for jumps back and forward\n",
    "                flag_jumps_back = False\n",
    "                flag_jumps_forward = False\n",
    "                #count_back = 1\n",
    "                #count_forward = 1\n",
    "                # Establish the auxiliar nodes to move back and forward\n",
    "                aux_node_back = milestone_node\n",
    "                aux_node_forward = milestone_node\n",
    "                if options[\"verbose\"]:\n",
    "                    print('Checking this vertex:', milestone_node.item)\n",
    "                # Compare the safety radius with the critical distance for the\n",
    "                # closest edge (back)\n",
    "                while (not approved_distance(aux_node_back, radius,\n",
    "                                            vor_approx[\"vrtx\"], 'back',\n",
    "                                            options[\"verbose\"])):\n",
    "                       #and count_back < cell.lenght_list):\n",
    "                    # Update the node, jumps and flag\n",
    "                    aux_node_back = aux_node_back.pref\n",
    "                    i += 1\n",
    "                    #count_back += 1\n",
    "                    flag_jumps_back = True\n",
    "                # Compare the safety radius with the critical distance for the\n",
    "                # closest edge (forward)\n",
    "                while (not approved_distance(aux_node_forward, radius,\n",
    "                                            vor_approx[\"vrtx\"], 'forward',\n",
    "                                            options[\"verbose\"])):\n",
    "                       #and count_forward < cell.lenght_list):\n",
    "                    # Update the node, jumps and flag\n",
    "                    aux_node_forward = aux_node_forward.nref\n",
    "                    i += 1\n",
    "                    #count_forward += 1\n",
    "                    flag_jumps_back = True\n",
    "                # Get coordinates\n",
    "                vertex_start = vor_approx[\"vrtx\"][aux_node_back.pref.item]\n",
    "                vertex_mid1 = vor_approx[\"vrtx\"][aux_node_back.item]\n",
    "                vertex_mid2 = vor_approx[\"vrtx\"][aux_node_forward.item]\n",
    "                vertex_end = vor_approx[\"vrtx\"][aux_node_forward.nref.item]\n",
    "                # If jump then sharpen the intersection\n",
    "                if flag_jumps_back or flag_jumps_forward:\n",
    "                    vertex_mid1 = sharpen(vertex_start, vertex_mid1,\n",
    "                                          vertex_mid2, vertex_end)\n",
    "                # Get the new vertices in this sector\n",
    "                sector = intersect(vertex_start, vertex_mid1, vertex_end,\n",
    "                                   radius)\n",
    "                # Assign the new intersection value to new_vertices\n",
    "                new_vertices.append(sector[1])\n",
    "                # Move the milestone_node and update the jump\n",
    "                milestone_node = aux_node_forward.nref\n",
    "                i += 1\n",
    "            # Add the first vertex at the end to close the cell \n",
    "            new_vertices.append(new_vertices[0])"
   ]
  },
  {
   "cell_type": "code",
   "execution_count": 9,
   "id": "5e76a919-0c00-419d-8ea0-8543b8762415",
   "metadata": {},
   "outputs": [],
   "source": [
    "import numpy as np\n",
    "from shapely.geometry import Polygon, LineString, MultiPolygon\n",
    "import matplotlib.pyplot as plt\n",
    "from shapely.ops import polygonize, unary_union"
   ]
  },
  {
   "cell_type": "code",
   "execution_count": 10,
   "id": "a29d311a-6187-48a0-8934-d547ae550ecf",
   "metadata": {},
   "outputs": [
    {
     "data": {
      "text/plain": [
       "[<matplotlib.lines.Line2D at 0x7f30ca77bb70>]"
      ]
     },
     "execution_count": 10,
     "metadata": {},
     "output_type": "execute_result"
    },
    {
     "data": {
      "image/png": "[encoded data removed]",
      "text/plain": [
       "<Figure size 432x288 with 1 Axes>"
      ]
     },
     "metadata": {
      "needs_background": "light"
     },
     "output_type": "display_data"
    }
   ],
   "source": [
    "x = np.array([ 0.38517325,  0.40859912,  0.43296919,  0.4583215 ,  0.4583215 ,\n",
    "               0.43296919,  0.40859912,  0.38517325,  0.36265506,  0.34100929])\n",
    "y = np.array([ 62.5       ,  56.17977528,  39.39698492,   0.        ,\n",
    "               0.        ,  17.34605377,  39.13341671,  60.4180932 ,\n",
    "               76.02574417,  85.47008547])\n",
    "polygon = Polygon(np.c_[x, y])\n",
    "plt.plot(*polygon.exterior.xy)\n"
   ]
  },
  {
   "cell_type": "code",
   "execution_count": 11,
   "id": "6ad05eee-15c3-45fd-8835-8a9b52ba2465",
   "metadata": {},
   "outputs": [
    {
     "data": {
      "text/plain": [
       "False"
      ]
     },
     "execution_count": 11,
     "metadata": {},
     "output_type": "execute_result"
    }
   ],
   "source": [
    "# original data\n",
    "ls = LineString(np.c_[x, y])\n",
    "# closed, non-simple\n",
    "lr = LineString(ls.coords[:] + ls.coords[0:1])\n",
    "lr.is_simple  # False"
   ]
  },
  {
   "cell_type": "code",
   "execution_count": 12,
   "id": "8dd7087f-6c01-465a-886c-b30c0fc49bc2",
   "metadata": {},
   "outputs": [
    {
     "data": {
      "text/plain": [
       "'MultiLineString'"
      ]
     },
     "execution_count": 12,
     "metadata": {},
     "output_type": "execute_result"
    }
   ],
   "source": [
    "mls = unary_union(lr)\n",
    "mls.geom_type  # MultiLineString'"
   ]
  },
  {
   "cell_type": "code",
   "execution_count": 13,
   "id": "7f134080-e21b-4cab-9ec8-42134d9b9e89",
   "metadata": {},
   "outputs": [
    {
     "name": "stdout",
     "output_type": "stream",
     "text": [
      "POLYGON ((0.38517325 62.5, 0.40859912 56.17977528, 0.43296919 39.39698492, 0.4583215 0, 0.43296919 17.34605377, 0.40859912 39.13341671, 0.38517325 60.4180932, 0.3731393676594341 68.75893388859882, 0.38517325 62.5))\n",
      "POLYGON ((0.3731393676594341 68.75893388859882, 0.34100929 85.47008547, 0.36265506 76.02574417, 0.3731393676594341 68.75893388859882))\n"
     ]
    }
   ],
   "source": [
    "for polygon in polygonize(mls):\n",
    "    print(polygon)"
   ]
  },
  {
   "cell_type": "code",
   "execution_count": 16,
   "id": "8a5fcfea-0fc7-4b0f-b832-d036b6cc5bef",
   "metadata": {},
   "outputs": [
    {
     "data": {
      "image/svg+xml": [
       "<svg xmlns=\"http://www.w3.org/2000/svg\" xmlns:xlink=\"http://www.w3.org/1999/xlink\" width=\"100.0\" height=\"100.0\" viewBox=\"-3.0777941288 -3.4188034188 6.9549190476 92.30769230759999\" preserveAspectRatio=\"xMinYMin meet\"><g transform=\"matrix(1,0,0,-1,0,85.47008547)\"><g><path fill-rule=\"evenodd\" fill=\"#66cc99\" stroke=\"#555555\" stroke-width=\"1.846153846152\" opacity=\"0.6\" d=\"M 0.38517325,62.5 L 0.40859912,56.17977528 L 0.43296919,39.39698492 L 0.4583215,0.0 L 0.43296919,17.34605377 L 0.40859912,39.13341671 L 0.38517325,60.4180932 L 0.3731393676594341,68.75893388859882 L 0.38517325,62.5 z\" /><path fill-rule=\"evenodd\" fill=\"#66cc99\" stroke=\"#555555\" stroke-width=\"1.846153846152\" opacity=\"0.6\" d=\"M 0.3731393676594341,68.75893388859882 L 0.34100929,85.47008547 L 0.36265506,76.02574417 L 0.3731393676594341,68.75893388859882 z\" /></g></g></svg>"
      ],
      "text/plain": [
       "<shapely.geometry.multipolygon.MultiPolygon at 0x7f30c275ccf8>"
      ]
     },
     "execution_count": 16,
     "metadata": {},
     "output_type": "execute_result"
    }
   ],
   "source": [
    "mp = MultiPolygon(list(polygonize(mls)))\n",
    "mp"
   ]
  }
 ],
 "metadata": {
  "kernelspec": {
   "display_name": "Python 3",
   "language": "python",
   "name": "python3"
  },
  "language_info": {
   "codemirror_mode": {
    "name": "ipython",
    "version": 3
   },
   "file_extension": ".py",
   "mimetype": "text/x-python",
   "name": "python",
   "nbconvert_exporter": "python",
   "pygments_lexer": "ipython3",
   "version": "3.6.13"
  }
 },
 "nbformat": 4,
 "nbformat_minor": 5
}
